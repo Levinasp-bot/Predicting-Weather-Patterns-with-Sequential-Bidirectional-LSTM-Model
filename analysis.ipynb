{
 "cells": [
  {
   "cell_type": "code",
   "execution_count": 17,
   "metadata": {},
   "outputs": [],
   "source": [
    "import numpy as np\n",
    "import pandas as pd\n",
    "from sklearn.model_selection import train_test_split\n",
    "from sklearn.preprocessing import LabelEncoder, MinMaxScaler\n",
    "from tensorflow.keras.models import Sequential\n",
    "from tensorflow.keras.layers import Dense, LSTM, Embedding\n",
    "from tensorflow.keras.utils import to_categorical"
   ]
  },
  {
   "cell_type": "code",
   "execution_count": 2,
   "metadata": {},
   "outputs": [],
   "source": [
    "# Load dataset\n",
    "data = pd.read_csv(\"seattle-weather.csv\")"
   ]
  },
  {
   "cell_type": "code",
   "execution_count": 3,
   "metadata": {},
   "outputs": [],
   "source": [
    "# Encode categorical data\n",
    "label_encoder = LabelEncoder()\n",
    "data['weather'] = label_encoder.fit_transform(data['weather'])"
   ]
  },
  {
   "cell_type": "code",
   "execution_count": 4,
   "metadata": {},
   "outputs": [],
   "source": [
    "# Normalize features\n",
    "scaler = MinMaxScaler()\n",
    "data[['precipitation', 'temp_max', 'temp_min', 'wind']] = scaler.fit_transform(data[['precipitation', 'temp_max', 'temp_min', 'wind']])"
   ]
  },
  {
   "cell_type": "code",
   "execution_count": 5,
   "metadata": {},
   "outputs": [],
   "source": [
    "# Split data into features and target\n",
    "X = data[['precipitation', 'temp_max', 'temp_min', 'wind']]\n",
    "y = data['weather']"
   ]
  },
  {
   "cell_type": "code",
   "execution_count": 6,
   "metadata": {},
   "outputs": [],
   "source": [
    "# Convert to numpy arrays\n",
    "X = np.array(X)\n",
    "y = np.array(y)"
   ]
  },
  {
   "cell_type": "code",
   "execution_count": 18,
   "metadata": {},
   "outputs": [],
   "source": [
    "# Convert target to one-hot encoding\n",
    "y = to_categorical(y)"
   ]
  },
  {
   "cell_type": "code",
   "execution_count": 19,
   "metadata": {},
   "outputs": [],
   "source": [
    "# Split data into training and test sets\n",
    "X_train, X_test, y_train, y_test = train_test_split(X, y, test_size=0.2, random_state=42)"
   ]
  },
  {
   "cell_type": "code",
   "execution_count": 20,
   "metadata": {},
   "outputs": [],
   "source": [
    "# Reshape input data for RNN\n",
    "X_train = X_train.reshape((X_train.shape[0], 1, X_train.shape[1]))\n",
    "X_test = X_test.reshape((X_test.shape[0], 1, X_test.shape[1]))"
   ]
  },
  {
   "cell_type": "code",
   "execution_count": 42,
   "metadata": {},
   "outputs": [],
   "source": [
    "from tensorflow.keras.layers import Bidirectional, Dropout"
   ]
  },
  {
   "cell_type": "code",
   "execution_count": 44,
   "metadata": {},
   "outputs": [],
   "source": [
    "# Build RNN model with more layers and dropout\n",
    "model = Sequential()\n",
    "model.add(Bidirectional(LSTM(100, return_sequences=True), input_shape=(X_train.shape[1], X_train.shape[2])))\n",
    "model.add(Dropout(0.2))\n",
    "model.add(Bidirectional(LSTM(50)))\n",
    "model.add(Dense(5, activation='softmax'))\n",
    "model.compile(optimizer='adam', loss='categorical_crossentropy', metrics=['accuracy'])\n"
   ]
  },
  {
   "cell_type": "code",
   "execution_count": 45,
   "metadata": {},
   "outputs": [
    {
     "name": "stdout",
     "output_type": "stream",
     "text": [
      "Epoch 1/100\n",
      "19/19 [==============================] - 21s 246ms/step - loss: 1.5455 - accuracy: 0.5548 - val_loss: 1.4497 - val_accuracy: 0.6860\n",
      "Epoch 2/100\n",
      "19/19 [==============================] - 0s 17ms/step - loss: 1.3080 - accuracy: 0.6002 - val_loss: 1.1542 - val_accuracy: 0.6587\n",
      "Epoch 3/100\n",
      "19/19 [==============================] - 0s 18ms/step - loss: 1.0814 - accuracy: 0.6370 - val_loss: 1.1039 - val_accuracy: 0.6724\n",
      "Epoch 4/100\n",
      "19/19 [==============================] - 0s 17ms/step - loss: 1.0567 - accuracy: 0.6490 - val_loss: 1.0687 - val_accuracy: 0.6007\n",
      "Epoch 5/100\n",
      "19/19 [==============================] - 0s 19ms/step - loss: 1.0255 - accuracy: 0.6344 - val_loss: 1.0324 - val_accuracy: 0.6792\n",
      "Epoch 6/100\n",
      "19/19 [==============================] - 0s 17ms/step - loss: 0.9800 - accuracy: 0.6738 - val_loss: 0.9821 - val_accuracy: 0.6860\n",
      "Epoch 7/100\n",
      "19/19 [==============================] - 0s 16ms/step - loss: 0.9341 - accuracy: 0.6781 - val_loss: 0.9348 - val_accuracy: 0.6792\n",
      "Epoch 8/100\n",
      "19/19 [==============================] - 0s 18ms/step - loss: 0.9007 - accuracy: 0.6798 - val_loss: 0.9019 - val_accuracy: 0.6826\n",
      "Epoch 9/100\n",
      "19/19 [==============================] - 0s 18ms/step - loss: 0.8810 - accuracy: 0.6841 - val_loss: 0.8780 - val_accuracy: 0.6928\n",
      "Epoch 10/100\n",
      "19/19 [==============================] - 0s 18ms/step - loss: 0.8566 - accuracy: 0.6909 - val_loss: 0.8647 - val_accuracy: 0.6928\n",
      "Epoch 11/100\n",
      "19/19 [==============================] - 0s 18ms/step - loss: 0.8393 - accuracy: 0.7080 - val_loss: 0.8478 - val_accuracy: 0.6997\n",
      "Epoch 12/100\n",
      "19/19 [==============================] - 0s 18ms/step - loss: 0.8191 - accuracy: 0.7166 - val_loss: 0.8282 - val_accuracy: 0.7099\n",
      "Epoch 13/100\n",
      "19/19 [==============================] - 0s 19ms/step - loss: 0.8003 - accuracy: 0.7072 - val_loss: 0.8128 - val_accuracy: 0.7133\n",
      "Epoch 14/100\n",
      "19/19 [==============================] - 0s 21ms/step - loss: 0.7854 - accuracy: 0.7252 - val_loss: 0.7931 - val_accuracy: 0.7304\n",
      "Epoch 15/100\n",
      "19/19 [==============================] - 0s 20ms/step - loss: 0.7673 - accuracy: 0.7252 - val_loss: 0.7714 - val_accuracy: 0.7270\n",
      "Epoch 16/100\n",
      "19/19 [==============================] - 0s 18ms/step - loss: 0.7478 - accuracy: 0.7389 - val_loss: 0.7553 - val_accuracy: 0.7440\n",
      "Epoch 17/100\n",
      "19/19 [==============================] - 0s 19ms/step - loss: 0.7352 - accuracy: 0.7457 - val_loss: 0.7432 - val_accuracy: 0.7406\n",
      "Epoch 18/100\n",
      "19/19 [==============================] - 0s 20ms/step - loss: 0.7235 - accuracy: 0.7517 - val_loss: 0.7285 - val_accuracy: 0.7440\n",
      "Epoch 19/100\n",
      "19/19 [==============================] - 0s 20ms/step - loss: 0.7159 - accuracy: 0.7509 - val_loss: 0.7152 - val_accuracy: 0.7440\n",
      "Epoch 20/100\n",
      "19/19 [==============================] - 0s 19ms/step - loss: 0.7071 - accuracy: 0.7628 - val_loss: 0.7132 - val_accuracy: 0.7543\n",
      "Epoch 21/100\n",
      "19/19 [==============================] - 0s 18ms/step - loss: 0.7126 - accuracy: 0.7594 - val_loss: 0.7289 - val_accuracy: 0.7304\n",
      "Epoch 22/100\n",
      "19/19 [==============================] - 0s 20ms/step - loss: 0.7046 - accuracy: 0.7474 - val_loss: 0.6988 - val_accuracy: 0.7679\n",
      "Epoch 23/100\n",
      "19/19 [==============================] - 0s 21ms/step - loss: 0.6851 - accuracy: 0.7620 - val_loss: 0.6909 - val_accuracy: 0.7577\n",
      "Epoch 24/100\n",
      "19/19 [==============================] - 0s 21ms/step - loss: 0.6800 - accuracy: 0.7646 - val_loss: 0.6827 - val_accuracy: 0.7577\n",
      "Epoch 25/100\n",
      "19/19 [==============================] - 0s 18ms/step - loss: 0.6776 - accuracy: 0.7714 - val_loss: 0.6773 - val_accuracy: 0.7645\n",
      "Epoch 26/100\n",
      "19/19 [==============================] - 0s 18ms/step - loss: 0.6644 - accuracy: 0.7774 - val_loss: 0.6759 - val_accuracy: 0.7611\n",
      "Epoch 27/100\n",
      "19/19 [==============================] - 0s 19ms/step - loss: 0.6815 - accuracy: 0.7637 - val_loss: 0.6722 - val_accuracy: 0.7816\n",
      "Epoch 28/100\n",
      "19/19 [==============================] - 0s 18ms/step - loss: 0.6645 - accuracy: 0.7740 - val_loss: 0.6834 - val_accuracy: 0.7543\n",
      "Epoch 29/100\n",
      "19/19 [==============================] - 0s 18ms/step - loss: 0.6557 - accuracy: 0.7705 - val_loss: 0.7034 - val_accuracy: 0.7304\n",
      "Epoch 30/100\n",
      "19/19 [==============================] - 0s 19ms/step - loss: 0.6641 - accuracy: 0.7688 - val_loss: 0.6598 - val_accuracy: 0.7713\n",
      "Epoch 31/100\n",
      "19/19 [==============================] - 0s 20ms/step - loss: 0.6561 - accuracy: 0.7620 - val_loss: 0.6587 - val_accuracy: 0.7679\n",
      "Epoch 32/100\n",
      "19/19 [==============================] - 0s 21ms/step - loss: 0.6555 - accuracy: 0.7705 - val_loss: 0.6542 - val_accuracy: 0.7713\n",
      "Epoch 33/100\n",
      "19/19 [==============================] - 0s 18ms/step - loss: 0.6412 - accuracy: 0.7817 - val_loss: 0.6588 - val_accuracy: 0.7679\n",
      "Epoch 34/100\n",
      "19/19 [==============================] - 0s 18ms/step - loss: 0.6439 - accuracy: 0.7774 - val_loss: 0.6636 - val_accuracy: 0.7645\n",
      "Epoch 35/100\n",
      "19/19 [==============================] - 0s 17ms/step - loss: 0.6429 - accuracy: 0.7834 - val_loss: 0.6488 - val_accuracy: 0.7747\n",
      "Epoch 36/100\n",
      "19/19 [==============================] - 0s 18ms/step - loss: 0.6463 - accuracy: 0.7817 - val_loss: 0.6462 - val_accuracy: 0.7747\n",
      "Epoch 37/100\n",
      "19/19 [==============================] - 0s 18ms/step - loss: 0.6290 - accuracy: 0.7877 - val_loss: 0.6438 - val_accuracy: 0.7884\n",
      "Epoch 38/100\n",
      "19/19 [==============================] - 0s 19ms/step - loss: 0.6282 - accuracy: 0.7851 - val_loss: 0.6520 - val_accuracy: 0.7782\n",
      "Epoch 39/100\n",
      "19/19 [==============================] - 0s 18ms/step - loss: 0.6359 - accuracy: 0.7808 - val_loss: 0.6413 - val_accuracy: 0.7918\n",
      "Epoch 40/100\n",
      "19/19 [==============================] - 0s 18ms/step - loss: 0.6332 - accuracy: 0.7783 - val_loss: 0.6432 - val_accuracy: 0.7850\n",
      "Epoch 41/100\n",
      "19/19 [==============================] - 0s 18ms/step - loss: 0.6245 - accuracy: 0.7885 - val_loss: 0.6363 - val_accuracy: 0.7918\n",
      "Epoch 42/100\n",
      "19/19 [==============================] - 0s 17ms/step - loss: 0.6262 - accuracy: 0.7851 - val_loss: 0.6375 - val_accuracy: 0.7850\n",
      "Epoch 43/100\n",
      "19/19 [==============================] - 0s 19ms/step - loss: 0.6193 - accuracy: 0.7911 - val_loss: 0.6336 - val_accuracy: 0.7918\n",
      "Epoch 44/100\n",
      "19/19 [==============================] - 0s 20ms/step - loss: 0.6283 - accuracy: 0.7868 - val_loss: 0.6332 - val_accuracy: 0.7884\n",
      "Epoch 45/100\n",
      "19/19 [==============================] - 0s 18ms/step - loss: 0.6150 - accuracy: 0.7894 - val_loss: 0.6217 - val_accuracy: 0.7850\n",
      "Epoch 46/100\n",
      "19/19 [==============================] - 0s 18ms/step - loss: 0.6088 - accuracy: 0.7885 - val_loss: 0.6203 - val_accuracy: 0.7952\n",
      "Epoch 47/100\n",
      "19/19 [==============================] - 0s 18ms/step - loss: 0.6120 - accuracy: 0.7937 - val_loss: 0.6198 - val_accuracy: 0.7952\n",
      "Epoch 48/100\n",
      "19/19 [==============================] - 0s 18ms/step - loss: 0.6130 - accuracy: 0.7808 - val_loss: 0.6202 - val_accuracy: 0.7747\n",
      "Epoch 49/100\n",
      "19/19 [==============================] - 0s 18ms/step - loss: 0.6132 - accuracy: 0.7885 - val_loss: 0.6128 - val_accuracy: 0.7850\n",
      "Epoch 50/100\n",
      "19/19 [==============================] - 0s 17ms/step - loss: 0.5993 - accuracy: 0.7894 - val_loss: 0.6095 - val_accuracy: 0.7747\n",
      "Epoch 51/100\n",
      "19/19 [==============================] - 0s 19ms/step - loss: 0.6019 - accuracy: 0.7979 - val_loss: 0.6115 - val_accuracy: 0.7747\n",
      "Epoch 52/100\n",
      "19/19 [==============================] - 0s 18ms/step - loss: 0.6034 - accuracy: 0.7971 - val_loss: 0.6070 - val_accuracy: 0.7952\n",
      "Epoch 53/100\n",
      "19/19 [==============================] - 0s 18ms/step - loss: 0.5863 - accuracy: 0.8014 - val_loss: 0.6191 - val_accuracy: 0.7850\n",
      "Epoch 54/100\n",
      "19/19 [==============================] - 0s 20ms/step - loss: 0.6085 - accuracy: 0.7834 - val_loss: 0.6149 - val_accuracy: 0.7918\n",
      "Epoch 55/100\n",
      "19/19 [==============================] - 0s 18ms/step - loss: 0.6042 - accuracy: 0.7885 - val_loss: 0.5997 - val_accuracy: 0.7986\n",
      "Epoch 56/100\n",
      "19/19 [==============================] - 0s 19ms/step - loss: 0.5942 - accuracy: 0.7945 - val_loss: 0.6066 - val_accuracy: 0.7747\n",
      "Epoch 57/100\n",
      "19/19 [==============================] - 0s 26ms/step - loss: 0.5932 - accuracy: 0.7997 - val_loss: 0.5989 - val_accuracy: 0.7747\n",
      "Epoch 58/100\n",
      "19/19 [==============================] - 1s 50ms/step - loss: 0.5854 - accuracy: 0.7962 - val_loss: 0.5914 - val_accuracy: 0.7850\n",
      "Epoch 59/100\n",
      "19/19 [==============================] - 1s 31ms/step - loss: 0.5849 - accuracy: 0.7954 - val_loss: 0.5881 - val_accuracy: 0.7884\n",
      "Epoch 60/100\n",
      "19/19 [==============================] - 1s 28ms/step - loss: 0.5751 - accuracy: 0.8014 - val_loss: 0.5933 - val_accuracy: 0.8020\n",
      "Epoch 61/100\n",
      "19/19 [==============================] - 0s 18ms/step - loss: 0.5796 - accuracy: 0.8065 - val_loss: 0.5824 - val_accuracy: 0.7952\n",
      "Epoch 62/100\n",
      "19/19 [==============================] - 1s 27ms/step - loss: 0.5715 - accuracy: 0.8074 - val_loss: 0.5886 - val_accuracy: 0.7850\n",
      "Epoch 63/100\n",
      "19/19 [==============================] - 0s 26ms/step - loss: 0.5812 - accuracy: 0.8074 - val_loss: 0.5781 - val_accuracy: 0.7918\n",
      "Epoch 64/100\n",
      "19/19 [==============================] - 0s 26ms/step - loss: 0.5718 - accuracy: 0.8022 - val_loss: 0.5876 - val_accuracy: 0.7918\n",
      "Epoch 65/100\n",
      "19/19 [==============================] - 0s 18ms/step - loss: 0.5741 - accuracy: 0.8057 - val_loss: 0.5794 - val_accuracy: 0.7884\n",
      "Epoch 66/100\n",
      "19/19 [==============================] - 0s 24ms/step - loss: 0.5751 - accuracy: 0.7962 - val_loss: 0.5747 - val_accuracy: 0.7986\n",
      "Epoch 67/100\n",
      "19/19 [==============================] - 0s 18ms/step - loss: 0.5765 - accuracy: 0.8039 - val_loss: 0.5761 - val_accuracy: 0.7816\n",
      "Epoch 68/100\n",
      "19/19 [==============================] - 0s 20ms/step - loss: 0.5664 - accuracy: 0.8065 - val_loss: 0.5697 - val_accuracy: 0.7986\n",
      "Epoch 69/100\n",
      "19/19 [==============================] - 0s 19ms/step - loss: 0.5739 - accuracy: 0.8142 - val_loss: 0.5729 - val_accuracy: 0.7850\n",
      "Epoch 70/100\n",
      "19/19 [==============================] - 0s 19ms/step - loss: 0.5693 - accuracy: 0.8057 - val_loss: 0.5839 - val_accuracy: 0.7918\n",
      "Epoch 71/100\n",
      "19/19 [==============================] - 0s 17ms/step - loss: 0.5705 - accuracy: 0.8108 - val_loss: 0.5648 - val_accuracy: 0.7918\n",
      "Epoch 72/100\n",
      "19/19 [==============================] - 0s 18ms/step - loss: 0.5690 - accuracy: 0.8014 - val_loss: 0.5639 - val_accuracy: 0.8055\n",
      "Epoch 73/100\n",
      "19/19 [==============================] - 0s 17ms/step - loss: 0.5605 - accuracy: 0.8099 - val_loss: 0.5666 - val_accuracy: 0.7952\n",
      "Epoch 74/100\n",
      "19/19 [==============================] - 0s 18ms/step - loss: 0.5559 - accuracy: 0.8159 - val_loss: 0.5606 - val_accuracy: 0.8055\n",
      "Epoch 75/100\n",
      "19/19 [==============================] - 0s 20ms/step - loss: 0.5800 - accuracy: 0.8082 - val_loss: 0.5750 - val_accuracy: 0.8123\n",
      "Epoch 76/100\n",
      "19/19 [==============================] - 0s 18ms/step - loss: 0.5616 - accuracy: 0.8134 - val_loss: 0.5610 - val_accuracy: 0.8055\n",
      "Epoch 77/100\n",
      "19/19 [==============================] - 0s 18ms/step - loss: 0.5472 - accuracy: 0.8134 - val_loss: 0.5606 - val_accuracy: 0.8055\n",
      "Epoch 78/100\n",
      "19/19 [==============================] - 0s 18ms/step - loss: 0.5536 - accuracy: 0.8176 - val_loss: 0.5593 - val_accuracy: 0.8020\n",
      "Epoch 79/100\n",
      "19/19 [==============================] - 0s 18ms/step - loss: 0.5448 - accuracy: 0.8193 - val_loss: 0.5584 - val_accuracy: 0.8055\n",
      "Epoch 80/100\n",
      "19/19 [==============================] - 0s 19ms/step - loss: 0.5519 - accuracy: 0.8168 - val_loss: 0.5776 - val_accuracy: 0.7952\n",
      "Epoch 81/100\n",
      "19/19 [==============================] - 0s 19ms/step - loss: 0.5556 - accuracy: 0.8142 - val_loss: 0.5766 - val_accuracy: 0.7952\n",
      "Epoch 82/100\n",
      "19/19 [==============================] - 0s 18ms/step - loss: 0.5594 - accuracy: 0.8125 - val_loss: 0.5554 - val_accuracy: 0.8020\n",
      "Epoch 83/100\n",
      "19/19 [==============================] - 0s 20ms/step - loss: 0.5398 - accuracy: 0.8211 - val_loss: 0.5465 - val_accuracy: 0.8089\n",
      "Epoch 84/100\n",
      "19/19 [==============================] - 0s 18ms/step - loss: 0.5486 - accuracy: 0.8185 - val_loss: 0.5526 - val_accuracy: 0.8089\n",
      "Epoch 85/100\n",
      "19/19 [==============================] - 0s 18ms/step - loss: 0.5423 - accuracy: 0.8185 - val_loss: 0.5541 - val_accuracy: 0.8157\n",
      "Epoch 86/100\n",
      "19/19 [==============================] - 0s 22ms/step - loss: 0.5504 - accuracy: 0.8185 - val_loss: 0.5567 - val_accuracy: 0.7986\n",
      "Epoch 87/100\n",
      "19/19 [==============================] - 0s 18ms/step - loss: 0.5421 - accuracy: 0.8211 - val_loss: 0.5693 - val_accuracy: 0.7952\n",
      "Epoch 88/100\n",
      "19/19 [==============================] - 0s 18ms/step - loss: 0.5534 - accuracy: 0.8228 - val_loss: 0.5594 - val_accuracy: 0.7986\n",
      "Epoch 89/100\n",
      "19/19 [==============================] - 0s 19ms/step - loss: 0.5328 - accuracy: 0.8253 - val_loss: 0.5384 - val_accuracy: 0.8157\n",
      "Epoch 90/100\n",
      "19/19 [==============================] - 0s 18ms/step - loss: 0.5354 - accuracy: 0.8322 - val_loss: 0.5336 - val_accuracy: 0.8191\n",
      "Epoch 91/100\n",
      "19/19 [==============================] - 0s 18ms/step - loss: 0.5272 - accuracy: 0.8313 - val_loss: 0.5350 - val_accuracy: 0.8225\n",
      "Epoch 92/100\n",
      "19/19 [==============================] - 0s 17ms/step - loss: 0.5258 - accuracy: 0.8322 - val_loss: 0.5302 - val_accuracy: 0.8225\n",
      "Epoch 93/100\n",
      "19/19 [==============================] - 0s 19ms/step - loss: 0.5476 - accuracy: 0.8176 - val_loss: 0.5552 - val_accuracy: 0.8157\n",
      "Epoch 94/100\n",
      "19/19 [==============================] - 0s 18ms/step - loss: 0.5430 - accuracy: 0.8211 - val_loss: 0.5315 - val_accuracy: 0.8225\n",
      "Epoch 95/100\n",
      "19/19 [==============================] - 0s 18ms/step - loss: 0.5211 - accuracy: 0.8416 - val_loss: 0.5331 - val_accuracy: 0.8191\n",
      "Epoch 96/100\n",
      "19/19 [==============================] - 0s 19ms/step - loss: 0.5354 - accuracy: 0.8236 - val_loss: 0.5288 - val_accuracy: 0.8225\n",
      "Epoch 97/100\n",
      "19/19 [==============================] - 0s 17ms/step - loss: 0.5210 - accuracy: 0.8408 - val_loss: 0.5265 - val_accuracy: 0.8157\n",
      "Epoch 98/100\n",
      "19/19 [==============================] - 0s 19ms/step - loss: 0.5240 - accuracy: 0.8365 - val_loss: 0.5264 - val_accuracy: 0.8259\n",
      "Epoch 99/100\n",
      "19/19 [==============================] - 0s 18ms/step - loss: 0.5176 - accuracy: 0.8330 - val_loss: 0.5233 - val_accuracy: 0.8259\n",
      "Epoch 100/100\n",
      "19/19 [==============================] - 0s 19ms/step - loss: 0.5182 - accuracy: 0.8373 - val_loss: 0.5292 - val_accuracy: 0.8157\n"
     ]
    }
   ],
   "source": [
    "# Train the model with adjusted parameters\n",
    "history = model.fit(X_train, y_train, epochs=100, batch_size=64, validation_data=(X_test, y_test), verbose=1)"
   ]
  },
  {
   "cell_type": "code",
   "execution_count": 46,
   "metadata": {},
   "outputs": [
    {
     "name": "stdout",
     "output_type": "stream",
     "text": [
      "Accuracy: 0.8156996369361877\n"
     ]
    }
   ],
   "source": [
    "loss, accuracy = model.evaluate(X_test, y_test, verbose=0)\n",
    "print('Accuracy:', accuracy)\n",
    "\n"
   ]
  },
  {
   "cell_type": "code",
   "execution_count": 47,
   "metadata": {},
   "outputs": [
    {
     "name": "stderr",
     "output_type": "stream",
     "text": [
      "c:\\Users\\A S U S\\anaconda3\\Lib\\site-packages\\sklearn\\base.py:464: UserWarning: X does not have valid feature names, but MinMaxScaler was fitted with feature names\n",
      "  warnings.warn(\n"
     ]
    },
    {
     "name": "stdout",
     "output_type": "stream",
     "text": [
      "1/1 [==============================] - 4s 4s/step\n",
      "Predicted weather: ['snow']\n"
     ]
    }
   ],
   "source": [
    "# Make predictions on new data\n",
    "new_data = np.array([[20.0, 0.0, -5.0, 4.7]])  # Example new data\n",
    "new_data = scaler.transform(new_data)\n",
    "new_data = new_data.reshape((1, 1, new_data.shape[1]))\n",
    "prediction = model.predict(new_data)\n",
    "predicted_weather = label_encoder.inverse_transform([np.argmax(prediction)])\n",
    "print('Predicted weather:', predicted_weather)"
   ]
  },
  {
   "cell_type": "markdown",
   "metadata": {},
   "source": [
    "Model Pertama:\n",
    "\n",
    "Model pertama menggunakan satu lapisan LSTM dengan 50 neuron, diikuti oleh lapisan Dense dengan 4 neuron untuk output.\n",
    "Fungsi aktivasi yang digunakan adalah ReLU untuk lapisan LSTM dan softmax untuk lapisan output.\n",
    "Fungsi kerugian yang digunakan adalah categorical_crossentropy karena kita memiliki masalah klasifikasi multikelas.\n",
    "Model pertama menggunakan metode optimasi Adam dengan default learning rate.\n",
    "Model Kedua:\n",
    "\n",
    "Model kedua menggunakan dua lapisan LSTM, masing-masing dengan 100 dan 50 neuron secara berturut-turut. Lapisan LSTM pertama menggunakan bidirectional LSTM untuk memperluas pemahaman temporal data.\n",
    "Kami menambahkan lapisan dropout dengan dropout rate 0.2 setelah lapisan LSTM pertama untuk mengurangi overfitting.\n",
    "Fungsi aktivasi yang sama digunakan untuk lapisan LSTM (ReLU) dan lapisan output (softmax).\n",
    "Model kedua menggunakan metode optimasi yang sama (Adam) dengan learning rate default.\n",
    "Perbedaan utama yang menyebabkan peningkatan akurasi dalam model kedua adalah:\n",
    "\n",
    "Kompleksitas Model: Model kedua memiliki struktur yang lebih kompleks dengan dua lapisan LSTM dan dropout layer, yang memungkinkan model untuk mempelajari representasi yang lebih baik dari data.\n",
    "\n",
    "Bidirectional LSTM: Penggunaan bidirectional LSTM pada lapisan pertama memungkinkan model untuk memahami konteks temporal dalam kedua arah, yang dapat membantu dalam memodelkan pola yang lebih kompleks dalam data.\n",
    "\n",
    "Regularisasi: Penambahan dropout layer setelah lapisan LSTM pertama membantu mengurangi overfitting dengan menghapus beberapa koneksi antar-neuron secara acak selama pelatihan.\n",
    "\n",
    "Jumlah Neuron: Penambahan jumlah neuron pada lapisan LSTM kedua juga dapat meningkatkan kapasitas model, yang mungkin diperlukan untuk menangkap pola yang lebih kompleks dalam data."
   ]
  }
 ],
 "metadata": {
  "kernelspec": {
   "display_name": "Python 3.11.5 ('base')",
   "language": "python",
   "name": "python3"
  },
  "language_info": {
   "codemirror_mode": {
    "name": "ipython",
    "version": 3
   },
   "file_extension": ".py",
   "mimetype": "text/x-python",
   "name": "python",
   "nbconvert_exporter": "python",
   "pygments_lexer": "ipython3",
   "version": "3.11.5"
  },
  "orig_nbformat": 4,
  "vscode": {
   "interpreter": {
    "hash": "72ab49a3e513d1f1a38b8aa7e666a1d70bc8846665ce2987208c8023d9eff140"
   }
  }
 },
 "nbformat": 4,
 "nbformat_minor": 2
}
